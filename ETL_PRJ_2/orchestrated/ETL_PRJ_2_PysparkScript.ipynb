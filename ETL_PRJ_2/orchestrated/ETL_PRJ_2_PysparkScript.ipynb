{
 "cells": [
  {
   "cell_type": "code",
   "execution_count": 1,
   "id": "140ce22a",
   "metadata": {},
   "outputs": [
    {
     "name": "stdout",
     "output_type": "stream",
     "text": [
      "172.22.6.46\n"
     ]
    },
    {
     "name": "stderr",
     "output_type": "stream",
     "text": [
      "your 131072x1 screen size is bogus. expect trouble\n",
      "Setting default log level to \"WARN\".\n",
      "To adjust logging level use sc.setLogLevel(newLevel). For SparkR, use setLogLevel(newLevel).\n",
      "25/07/30 07:52:28 WARN NativeCodeLoader: Unable to load native-hadoop library for your platform... using builtin-java classes where applicable\n"
     ]
    }
   ],
   "source": [
    "import findspark\n",
    "import subprocess\n",
    "from pyspark.sql import SparkSession\n",
    "\n",
    "\n",
    "ip_addresses = subprocess.check_output(['hostname', '-I']).decode().strip()\n",
    "print(ip_addresses)\n",
    "findspark.init()\n",
    "\n",
    "\n",
    "spark = SparkSession.builder \\\n",
    "    .appName(\"PySparkJupyter\") \\\n",
    "    .config(\"spark.ui.enabled\", \"false\") \\\n",
    "    .config(\"spark.driver.bindAddress\", ip_addresses) \\\n",
    "    .config(\"spark.driver.host\", ip_addresses) \\\n",
    "    .getOrCreate()"
   ]
  },
  {
   "cell_type": "code",
   "execution_count": 2,
   "id": "0df080ac",
   "metadata": {},
   "outputs": [
    {
     "name": "stderr",
     "output_type": "stream",
     "text": [
      "                                                                                \r"
     ]
    }
   ],
   "source": [
    "DF_Extract = spark.read \\\n",
    "    .format(\"csv\") \\\n",
    "    .option(\"inferschema\",\"true\") \\\n",
    "    .option(\"header\",\"true\") \\\n",
    "    .load(\"/home/airflowsup/ETL_PRJ_2/orchestrated/airflow-extract-data_2.csv\")\n",
    "\n",
    "# DF_Extract.show()"
   ]
  },
  {
   "cell_type": "code",
   "execution_count": 3,
   "id": "ad29b868",
   "metadata": {},
   "outputs": [
    {
     "name": "stderr",
     "output_type": "stream",
     "text": [
      "                                                                                \r"
     ]
    },
    {
     "data": {
      "text/plain": [
       "435"
      ]
     },
     "execution_count": 3,
     "metadata": {},
     "output_type": "execute_result"
    }
   ],
   "source": [
    "from pyspark.sql import functions as F\n",
    "from pyspark.sql import Window as W\n",
    "\n",
    "SectorWindow = W.partitionBy([\"Date added\",\"GICS Sector\"])\n",
    "Output_Columns = [\"Date added\",\"GICS Sector\",\"Aggregated_Count\"]\n",
    "\n",
    "DF_Transform = DF_Extract.drop_duplicates()\n",
    "DF_Transform = DF_Transform.withColumn(\"Aggregated_Count\", F.count(F.col(\"Symbol\")).over(SectorWindow)) \\\n",
    "                          .select([F.col(f\"{i}\") for i in Output_Columns]).drop_duplicates()     \n",
    "\n",
    "DF_Transform.count()"
   ]
  },
  {
   "cell_type": "code",
   "execution_count": null,
   "id": "d2932b88",
   "metadata": {},
   "outputs": [],
   "source": [
    "!jupyter nbconvert --to script /home/airflowsup/ETL_PRJ_2/orchestrated/ETL_PRJ_2_PysparkScript.ipynb"
   ]
  }
 ],
 "metadata": {
  "kernelspec": {
   "display_name": "airflow310_env",
   "language": "python",
   "name": "python3"
  },
  "language_info": {
   "codemirror_mode": {
    "name": "ipython",
    "version": 3
   },
   "file_extension": ".py",
   "mimetype": "text/x-python",
   "name": "python",
   "nbconvert_exporter": "python",
   "pygments_lexer": "ipython3",
   "version": "3.10.17"
  }
 },
 "nbformat": 4,
 "nbformat_minor": 5
}
