{
 "cells": [
  {
   "cell_type": "code",
   "execution_count": null,
   "id": "751e9e08",
   "metadata": {},
   "outputs": [],
   "source": [
    "from Spark_Config_Setup import get_spark\n",
    "spark = get_spark()\n"
   ]
  },
  {
   "cell_type": "code",
   "execution_count": null,
   "id": "b89c2137",
   "metadata": {},
   "outputs": [],
   "source": [
    "DF_Extract = spark.read.csv(r\"s3a://supawsbucket07/Airflow_AwSS3_Pyspark_Project/synthetic_ecommerce_transactions.csv\", header=True,inferSchema=True)\n",
    "DF_Extract.count()\n"
   ]
  },
  {
   "cell_type": "code",
   "execution_count": null,
   "id": "43c3ef24",
   "metadata": {},
   "outputs": [],
   "source": [
    "DF_Bronze = DF_Extract.dropDuplicates()\n",
    "DF_Bronze_Reject = DF_Extract.join(DF_Bronze,on=[\"transaction_id\"],how=\"left_anti\")\n",
    "DF_Bronze_Reject.write.format(\"parquet\").mode(\"overwrite\").save(r\"s3a://supawsbucket07/Airflow_AwSS3_Pyspark_Project/bronze/valid/Bronze_Layer_Reject.parquet\")\n",
    "DF_Bronze.write.format(\"parquet\").mode(\"overwrite\").save(r\"s3a://supawsbucket07/Airflow_AwSS3_Pyspark_Project/bronze/rejects/Bronze_Layer_Data.parquet\")"
   ]
  },
  {
   "cell_type": "code",
   "execution_count": null,
   "id": "bd104797",
   "metadata": {},
   "outputs": [],
   "source": [
    "!jupyter nbconvert --to script /home/airflowsup/Airflow_AwsS3_Project//home/airflowsup/Airflow_AwsS3_Project/Airflow_AwsS3_Pyspark_BronzeLayerScript.ipynb --output /home/airflowsup/Airflow_AwsS3_Project/Airflow_AwsS3_Pyspark_BronzeLayerScript"
   ]
  }
 ],
 "metadata": {
  "kernelspec": {
   "display_name": "airflow310_env",
   "language": "python",
   "name": "python3"
  },
  "language_info": {
   "codemirror_mode": {
    "name": "ipython",
    "version": 3
   },
   "file_extension": ".py",
   "mimetype": "text/x-python",
   "name": "python",
   "nbconvert_exporter": "python",
   "pygments_lexer": "ipython3",
   "version": "3.10.18"
  }
 },
 "nbformat": 4,
 "nbformat_minor": 5
}
