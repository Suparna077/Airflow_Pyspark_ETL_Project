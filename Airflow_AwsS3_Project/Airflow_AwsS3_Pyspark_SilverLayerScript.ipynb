{
 "cells": [
  {
   "cell_type": "code",
   "execution_count": null,
   "id": "31fee3e2",
   "metadata": {},
   "outputs": [],
   "source": [
    "from Spark_Config_Setup import get_spark\n",
    "from pyspark.sql import functions as F\n",
    "from pyspark.sql import Window as W\n",
    "spark = get_spark()"
   ]
  },
  {
   "cell_type": "code",
   "execution_count": null,
   "id": "b84eccc1",
   "metadata": {},
   "outputs": [],
   "source": [
    "DF_Silver_Layer = spark.read.format(\"parquet\") \\\n",
    "    .option(\"Header\",True) \\\n",
    "    .option(\"InferSchema\",True) \\\n",
    "    .load(r\"s3a://supawsbucket07/Airflow_AwSS3_Pyspark_Project/bronze/rejects/Bronze_Layer_Data.parquet\")\n",
    "DF_Silver_Layer.count()"
   ]
  },
  {
   "cell_type": "code",
   "execution_count": null,
   "id": "9ec524bc",
   "metadata": {},
   "outputs": [],
   "source": [
    "\n",
    "\n",
    "Conversion_Rate_For_Euro = 1.158\n",
    "Conversion_Rate_For_INR =  0.011\n",
    "DF_Silver_Layer_Temp = DF_Silver_Layer. \\\n",
    "    withColumn(\"amount_spent\" ,  F.when(F.col(\"currency\") == \"EUR\",F.round(F.col (\"amount_spent\") * Conversion_Rate_For_Euro,2)) \\\n",
    "    .when(F.col(\"currency\") == \"INR\", F.round(F.col(\"amount_spent\") * Conversion_Rate_For_INR,2)) \\\n",
    "    .otherwise(F.round(F.col(\"amount_spent\"),2))) \\\n",
    "    .withColumn(\"currency\", F.lit(\"USD\")) \\\n",
    "    .withColumn(\"timestamp\",F.to_date(F.col(\"timestamp\")))\n",
    "\n",
    "Customer_Category_Window = W.partitionBy(\"customer_id\",\"product_category\")\n",
    "DF_Silver_Layer_Temp = DF_Silver_Layer_Temp.withColumn(\"total_spent_per_customer_category\",\n",
    "                                    F.round(F.sum(\"amount_spent\").over(Customer_Category_Window),2))\n",
    "DF_Silver_Layer_Temp.count()\n",
    "                   \n",
    "# DF_Silver_Layer_Temp.show()"
   ]
  },
  {
   "cell_type": "code",
   "execution_count": null,
   "id": "a1d13a3a",
   "metadata": {},
   "outputs": [],
   "source": [
    "DF_Silver_Layer_Temp.write.format(\"parquet\").mode(\"overwrite\") \\\n",
    "    .save(r\"s3a://supawsbucket07/Airflow_AwSS3_Pyspark_Project/silver/Silver_Layer_Data.parquet\")"
   ]
  },
  {
   "cell_type": "code",
   "execution_count": 13,
   "id": "00708970",
   "metadata": {},
   "outputs": [
    {
     "name": "stdout",
     "output_type": "stream",
     "text": [
      "[NbConvertApp] Converting notebook /home/airflowsup/Airflow_AwsS3_Project/Airflow_AwsS3_Pyspark_SilverLayerScript.ipynb to script\n",
      "[NbConvertApp] Writing 1713 bytes to /home/airflowsup/Airflow_AwsS3_Project/Airflow_AwsS3_Pyspark_SilverLayerScript.py\n"
     ]
    }
   ],
   "source": [
    "!jupyter nbconvert --to script /home/airflowsup/Airflow_AwsS3_Project/Airflow_AwsS3_Pyspark_SilverLayerScript.ipynb --output /home/airflowsup/Airflow_AwsS3_Project/Airflow_AwsS3_Pyspark_SilverLayerScript"
   ]
  }
 ],
 "metadata": {
  "kernelspec": {
   "display_name": "airflow310_env",
   "language": "python",
   "name": "python3"
  },
  "language_info": {
   "codemirror_mode": {
    "name": "ipython",
    "version": 3
   },
   "file_extension": ".py",
   "mimetype": "text/x-python",
   "name": "python",
   "nbconvert_exporter": "python",
   "pygments_lexer": "ipython3",
   "version": "3.10.18"
  }
 },
 "nbformat": 4,
 "nbformat_minor": 5
}
