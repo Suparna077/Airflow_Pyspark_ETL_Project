{
 "cells": [
  {
   "cell_type": "code",
   "execution_count": null,
   "id": "f0119a32",
   "metadata": {},
   "outputs": [],
   "source": [
    "from Spark_Config_Setup import get_spark\n",
    "from pyspark.sql import functions as F\n",
    "spark = get_spark()"
   ]
  },
  {
   "cell_type": "code",
   "execution_count": null,
   "id": "3a6646b3",
   "metadata": {},
   "outputs": [],
   "source": [
    "DF_Gold_Layer = spark.read.format(\"parquet\").option(\"Header\",True) \\\n",
    "    .option(\"InferSchema\",True) \\\n",
    "    .load(r\"s3a://supawsbucket07/Airflow_AwSS3_Pyspark_Project/silver/Silver_Layer_Data.parquet\")\n",
    "DF_Gold_Layer.count()\n",
    "# DF_Gold_Layer.show()"
   ]
  },
  {
   "cell_type": "code",
   "execution_count": null,
   "id": "b5147200",
   "metadata": {},
   "outputs": [],
   "source": [
    "DF_Gold_Layer.printSchema()"
   ]
  },
  {
   "cell_type": "code",
   "execution_count": null,
   "id": "c2ac56b6",
   "metadata": {},
   "outputs": [],
   "source": [
    "DF_Customer_Fact = DF_Gold_Layer.select(F.col(\"customer_id\"),\n",
    "        F.col(\"product_category\")).orderBy(\"customer_id\").dropDuplicates()\n",
    "DF_Customer_Fact.count()"
   ]
  },
  {
   "cell_type": "code",
   "execution_count": null,
   "id": "4d352d19",
   "metadata": {},
   "outputs": [],
   "source": [
    "DF_Customer_Transaction_Dim = DF_Gold_Layer.select(F.col(\"transaction_id\"),F.col(\"timestamp\").alias(\"transaction_time\"),F.col(\"customer_id\"),F.col(\"product_category\"),F.col(\"amount_spent\"),\n",
    "F.col(\"currency\")).orderBy(\"customer_id\").dropDuplicates()\n",
    "\n",
    "DF_Customer_Product_Amount_Dim = DF_Gold_Layer.select(F.col(\"customer_id\"),F.col(\"product_category\"),F.col(\"total_spent_per_customer_category\"),F.col(\"currency\")).orderBy(\"customer_id\").dropDuplicates([\"customer_id\",\"product_category\"])\n",
    "\n"
   ]
  },
  {
   "cell_type": "code",
   "execution_count": null,
   "id": "eb4def19",
   "metadata": {},
   "outputs": [],
   "source": [
    "DF_Customer_Transaction_Dim.count()"
   ]
  },
  {
   "cell_type": "code",
   "execution_count": null,
   "id": "a6b04f78",
   "metadata": {},
   "outputs": [],
   "source": [
    "DF_Customer_Product_Amount_Dim.count()"
   ]
  },
  {
   "cell_type": "code",
   "execution_count": null,
   "id": "d05ee833",
   "metadata": {},
   "outputs": [],
   "source": [
    "DF_Customer_Fact.write.format(\"parquet\").mode(\"overwrite\") \\\n",
    "    .save(r\"s3a://supawsbucket07/Airflow_AwSS3_Pyspark_Project/gold/DF_Customer_Fact.parquet\")\n",
    "\n",
    "DF_Customer_Transaction_Dim.write.format(\"parquet\").mode(\"overwrite\") \\\n",
    "    .save(r\"s3a://supawsbucket07/Airflow_AwSS3_Pyspark_Project/gold/DF_Customer_Transaction_Dim.parquet\")\n",
    "\n",
    "DF_Customer_Product_Amount_Dim.write.format(\"parquet\").mode(\"overwrite\") \\\n",
    "    .save(r\"s3a://supawsbucket07/Airflow_AwSS3_Pyspark_Project/gold/DF_Customer_Product_Amount_Dim.parquet\")"
   ]
  },
  {
   "cell_type": "code",
   "execution_count": 21,
   "id": "1328954d",
   "metadata": {},
   "outputs": [
    {
     "name": "stdout",
     "output_type": "stream",
     "text": [
      "[NbConvertApp] Converting notebook /home/airflowsup/Airflow_AwsS3_Project/Airfloiw_AwsS3_Pyspark_GoldLayerScript.ipynb to script\n",
      "[NbConvertApp] Writing 1997 bytes to /home/airflowsup/Airflow_AwsS3_Project/Airfloiw_AwsS3_Pyspark_GoldLayerScript.py\n"
     ]
    }
   ],
   "source": [
    "!jupyter nbconvert --to script /home/airflowsup/Airflow_AwsS3_Project/Airfloiw_AwsS3_Pyspark_GoldLayerScript.ipynb --output /home/airflowsup/Airflow_AwsS3_Project/Airfloiw_AwsS3_Pyspark_GoldLayerScript"
   ]
  }
 ],
 "metadata": {
  "kernelspec": {
   "display_name": "airflow310_env",
   "language": "python",
   "name": "python3"
  },
  "language_info": {
   "codemirror_mode": {
    "name": "ipython",
    "version": 3
   },
   "file_extension": ".py",
   "mimetype": "text/x-python",
   "name": "python",
   "nbconvert_exporter": "python",
   "pygments_lexer": "ipython3",
   "version": "3.10.18"
  }
 },
 "nbformat": 4,
 "nbformat_minor": 5
}
